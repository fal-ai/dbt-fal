{
 "cells": [
  {
   "cell_type": "code",
   "execution_count": null,
   "metadata": {},
   "outputs": [],
   "source": [
    "from faldbt.magics import init_fal\n",
    "%init_fal project_dir=../.. profiles_dir=../../.. default_model_name=model_e_notebook"
   ]
  },
  {
   "cell_type": "code",
   "execution_count": null,
   "metadata": {},
   "outputs": [],
   "source": [
    "df = ref(\"model_c\")\n",
    "\n",
    "df[\"my_null\"] = None\n",
    "\n",
    "write_to_model(df)"
   ]
  }
 ],
 "metadata": {
  "language_info": {
   "name": "python"
  },
  "orig_nbformat": 4
 },
 "nbformat": 4,
 "nbformat_minor": 2
}
